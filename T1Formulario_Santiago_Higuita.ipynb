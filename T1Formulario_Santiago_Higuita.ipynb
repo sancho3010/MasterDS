{
  "nbformat": 4,
  "nbformat_minor": 0,
  "metadata": {
    "colab": {
      "name": "T1Formulario_Santiago_Higuita.ipynb",
      "provenance": [],
      "collapsed_sections": []
    },
    "kernelspec": {
      "name": "python3",
      "display_name": "Python 3"
    },
    "language_info": {
      "name": "python"
    }
  },
  "cells": [
    {
      "cell_type": "markdown",
      "source": [
        "##Tarea 1\n",
        "###Santiago Higuita Usuga\n",
        "###DNI 1017251535\n",
        "###sshiguitau@uc.cl"
      ],
      "metadata": {
        "id": "qn0FbkZi9nlv"
      }
    },
    {
      "cell_type": "markdown",
      "source": [
        "#Tarea 1 -- formulario de respuestas\n",
        "\n",
        "En este notebook pueden ingresar sus respuestas a las preguntas de tarea 1, y asegurarse que sus comandos SQL funcionan de manera adecuada."
      ],
      "metadata": {
        "id": "8BXXue8KDsQz"
      }
    },
    {
      "cell_type": "markdown",
      "source": [
        "### Iniciar el servidor\n",
        "\n",
        "Cómo siempre, para poder ocupar el notebook, lo deben subir a https://colab.research.google.com\n",
        "\n",
        "Luego, ejecutando el siguiente campo, se crea una instancia de servidor postgres, dónde pueden realizar sus consultas."
      ],
      "metadata": {
        "id": "-GIMqhcTEPx1"
      }
    },
    {
      "cell_type": "code",
      "source": [
        "# install\n",
        "!apt update\n",
        "!apt install postgresql postgresql-contrib &>log\n",
        "!service postgresql start\n",
        "!sudo -u postgres psql -c \"CREATE USER root WITH SUPERUSER\"\n",
        "# set connection\n",
        "%load_ext sql\n",
        "%config SqlMagic.feedback=False \n",
        "%config SqlMagic.autopandas=True\n",
        "%sql postgresql+psycopg2://@/postgres"
      ],
      "metadata": {
        "id": "GtDuYL0YEO_j",
        "colab": {
          "base_uri": "https://localhost:8080/",
          "height": 504
        },
        "outputId": "eed35956-8970-4c86-ec80-8275ab20be67"
      },
      "execution_count": 1,
      "outputs": [
        {
          "output_type": "stream",
          "name": "stdout",
          "text": [
            "Ign:1 https://developer.download.nvidia.com/compute/machine-learning/repos/ubuntu1804/x86_64  InRelease\n",
            "Get:2 https://developer.download.nvidia.com/compute/cuda/repos/ubuntu1804/x86_64  InRelease [1,581 B]\n",
            "Hit:3 https://developer.download.nvidia.com/compute/machine-learning/repos/ubuntu1804/x86_64  Release\n",
            "Get:4 https://cloud.r-project.org/bin/linux/ubuntu bionic-cran40/ InRelease [3,626 B]\n",
            "Hit:5 http://archive.ubuntu.com/ubuntu bionic InRelease\n",
            "Get:6 http://security.ubuntu.com/ubuntu bionic-security InRelease [88.7 kB]\n",
            "Get:7 http://ppa.launchpad.net/c2d4u.team/c2d4u4.0+/ubuntu bionic InRelease [15.9 kB]\n",
            "Get:8 https://developer.download.nvidia.com/compute/cuda/repos/ubuntu1804/x86_64  Packages [910 kB]\n",
            "Get:9 http://archive.ubuntu.com/ubuntu bionic-updates InRelease [88.7 kB]\n",
            "Hit:11 http://ppa.launchpad.net/cran/libgit2/ubuntu bionic InRelease\n",
            "Get:12 http://archive.ubuntu.com/ubuntu bionic-backports InRelease [74.6 kB]\n",
            "Hit:13 http://ppa.launchpad.net/deadsnakes/ppa/ubuntu bionic InRelease\n",
            "Hit:14 http://ppa.launchpad.net/graphics-drivers/ppa/ubuntu bionic InRelease\n",
            "Get:15 http://ppa.launchpad.net/c2d4u.team/c2d4u4.0+/ubuntu bionic/main Sources [2,095 kB]\n",
            "Get:16 http://security.ubuntu.com/ubuntu bionic-security/main amd64 Packages [2,937 kB]\n",
            "Get:17 http://archive.ubuntu.com/ubuntu bionic-updates/main amd64 Packages [3,369 kB]\n",
            "Get:18 http://security.ubuntu.com/ubuntu bionic-security/universe amd64 Packages [1,533 kB]\n",
            "Get:19 http://ppa.launchpad.net/c2d4u.team/c2d4u4.0+/ubuntu bionic/main amd64 Packages [1,073 kB]\n",
            "Get:20 http://archive.ubuntu.com/ubuntu bionic-updates/universe amd64 Packages [2,311 kB]\n",
            "Fetched 14.5 MB in 4s (3,694 kB/s)\n",
            "Reading package lists... Done\n",
            "Building dependency tree       \n",
            "Reading state information... Done\n",
            "25 packages can be upgraded. Run 'apt list --upgradable' to see them.\n",
            " * Starting PostgreSQL 10 database server\n",
            "   ...done.\n",
            "CREATE ROLE\n"
          ]
        },
        {
          "output_type": "execute_result",
          "data": {
            "text/plain": [
              "'Connected: @postgres'"
            ],
            "application/vnd.google.colaboratory.intrinsic+json": {
              "type": "string"
            }
          },
          "metadata": {},
          "execution_count": 1
        }
      ]
    },
    {
      "cell_type": "markdown",
      "source": [
        "##Pregunta 1\n",
        "\n",
        "La primera tarea que debes realizar es escribir un esquema relacional para nuestro caso de uso, especificando los nombres de las tablas, los tipos de atributos, y nombrar las llaves primarias en cada tabla.\n",
        "Adicionalmente, debes explicar cómo lograste guardar la información que una persona participa en un taller, y que un taller se realiza en un lugar específico.\n",
        "\n",
        "Cómo un ejemplo de cómo se debe ver tu solución, basta con escribir algo cómo:\n",
        "\n",
        "`País(id INT, nombre VARCHAR(50), población INT)`\n",
        "\n",
        "*Llave para la relación País:* id\n",
        "\n",
        "En caso de esquema para un país.\n",
        "\n",
        "Este esquema no necesita ser en SQL.\n",
        "\n",
        "La respuesta la pueden ingresar en el campo abajo:"
      ],
      "metadata": {
        "id": "Pwj39cMXFB9b"
      }
    },
    {
      "cell_type": "markdown",
      "source": [
        "## Respuesta 1:\n",
        "\n",
        "... (hacer doble click para empezar escribir) ...\n",
        "###Esquema 1:\n",
        "Estudiantes(<ins>erut</ins> VARCHAR(50), enombre VARCHAR(50), ecorreo VARCHAR(50), etelefono VARCHAR(30), <ins>tid</ins> INT); PRIMARY KEY(erut, tid)\n",
        "\n",
        "*La idea es que un estudiante no esté inscrito dos o más veces en el mismo curso.*\n",
        "\n",
        "###Esquema 2:\n",
        "Taller(<ins>tid</ins> INT, tnombre VARCHAR(50), tfecha DATE, thora TIME, tvalor FLOAT, tduracion TIME, iDNI INT); PRIMARY KEY(tid, tfecha, thora, iDNI)\n",
        "\n",
        "*Si bien se podría asignar tid como primary key, se eligió el taller, la fecha y hora del curso y el instructor, con el fin de que un mismo instructor no esté programado para dictar dos cursos al mismo tiempo.*\n",
        "\n",
        "###Esquema 3:\n",
        "Instructor(<ins>iDNI</ins> INT, inombre VARCHAR(50), icorreo VARCHAR(50), itelefono VARCHAR(50), <ins>tid</ins> INT); PRIMARY KEY(iDNI, tid)\n",
        "\n",
        "*La idea es que un instructor no esté asociado dos o más veces al mismo curso.*"
      ],
      "metadata": {
        "id": "yXEite0mEysO"
      }
    },
    {
      "cell_type": "markdown",
      "source": [
        "##Pregunta 2\n",
        "\n",
        "Con tu esquema en mano, debes escribir los comandos SQL para crear las tablas en tu esquema. Esto requiere tener cinco o más comandos de tipo “CREATE TABLE…” que deben poder ejecutarse correctamente en SQL. Quiere decir, si nosotros ejecutamos estos comandos, el motor de SQL no nos dará un error. Para esto, te recomendamos correr tus comandos directamente en el siguiente campo de Notebook en Google Colab:"
      ],
      "metadata": {
        "id": "yB4d1b1KFw3v"
      }
    },
    {
      "cell_type": "code",
      "source": [
        "%%sql\n",
        "DROP TABLE IF EXISTS Estudiantes;\n",
        "DROP TABLE IF EXISTS Taller;\n",
        "DROP TABLE IF EXISTS Instructor;\n",
        "\n",
        "CREATE TABLE IF NOT EXISTS Estudiantes(\n",
        "  erut VARCHAR(50)\n",
        "  ,enombre VARCHAR(50)\n",
        "  ,ecorreo VARCHAR(50)\n",
        "  ,etelefono VARCHAR(30)\n",
        "  ,tid INT\n",
        "  ,PRIMARY KEY (erut, tid)\n",
        "\n",
        ");\n",
        "\n",
        "CREATE TABLE IF NOT EXISTS Taller(\n",
        "  tid INT\n",
        "  ,tnombre VARCHAR(30)\n",
        "  ,tfecha DATE\n",
        "  ,thora TIME\n",
        "  ,tvalor FLOAT\n",
        "  ,tduracion TIME  \n",
        "  ,iDNI INT\n",
        "  ,PRIMARY KEY (tid, tfecha, thora, iDNI)\n",
        ");\n",
        "\n",
        "CREATE TABLE IF NOT EXISTS Instructor(\n",
        "  iDNI INT\n",
        "  ,inombre VARCHAR(50)\n",
        "  ,icorreo VARCHAR(50)\n",
        "  ,itelefono VARCHAR(50) DEFAULT 0\n",
        "  ,tid INT\n",
        "  ,PRIMARY KEY (iDNI, tid)\n",
        ")\n"
      ],
      "metadata": {
        "id": "NcLY99I3F32R",
        "colab": {
          "base_uri": "https://localhost:8080/",
          "height": 66
        },
        "outputId": "b37be1be-30ce-44c6-f884-bf7956ca0e12"
      },
      "execution_count": 20,
      "outputs": [
        {
          "output_type": "stream",
          "name": "stdout",
          "text": [
            " * postgresql+psycopg2://@/postgres\n"
          ]
        },
        {
          "output_type": "execute_result",
          "data": {
            "text/plain": [
              "Empty DataFrame\n",
              "Columns: []\n",
              "Index: []"
            ],
            "text/html": [
              "\n",
              "  <div id=\"df-421c4e71-a5c8-4e4b-927a-75bff44421f7\">\n",
              "    <div class=\"colab-df-container\">\n",
              "      <div>\n",
              "<style scoped>\n",
              "    .dataframe tbody tr th:only-of-type {\n",
              "        vertical-align: middle;\n",
              "    }\n",
              "\n",
              "    .dataframe tbody tr th {\n",
              "        vertical-align: top;\n",
              "    }\n",
              "\n",
              "    .dataframe thead th {\n",
              "        text-align: right;\n",
              "    }\n",
              "</style>\n",
              "<table border=\"1\" class=\"dataframe\">\n",
              "  <thead>\n",
              "    <tr style=\"text-align: right;\">\n",
              "      <th></th>\n",
              "    </tr>\n",
              "  </thead>\n",
              "  <tbody>\n",
              "  </tbody>\n",
              "</table>\n",
              "</div>\n",
              "      <button class=\"colab-df-convert\" onclick=\"convertToInteractive('df-421c4e71-a5c8-4e4b-927a-75bff44421f7')\"\n",
              "              title=\"Convert this dataframe to an interactive table.\"\n",
              "              style=\"display:none;\">\n",
              "        \n",
              "  <svg xmlns=\"http://www.w3.org/2000/svg\" height=\"24px\"viewBox=\"0 0 24 24\"\n",
              "       width=\"24px\">\n",
              "    <path d=\"M0 0h24v24H0V0z\" fill=\"none\"/>\n",
              "    <path d=\"M18.56 5.44l.94 2.06.94-2.06 2.06-.94-2.06-.94-.94-2.06-.94 2.06-2.06.94zm-11 1L8.5 8.5l.94-2.06 2.06-.94-2.06-.94L8.5 2.5l-.94 2.06-2.06.94zm10 10l.94 2.06.94-2.06 2.06-.94-2.06-.94-.94-2.06-.94 2.06-2.06.94z\"/><path d=\"M17.41 7.96l-1.37-1.37c-.4-.4-.92-.59-1.43-.59-.52 0-1.04.2-1.43.59L10.3 9.45l-7.72 7.72c-.78.78-.78 2.05 0 2.83L4 21.41c.39.39.9.59 1.41.59.51 0 1.02-.2 1.41-.59l7.78-7.78 2.81-2.81c.8-.78.8-2.07 0-2.86zM5.41 20L4 18.59l7.72-7.72 1.47 1.35L5.41 20z\"/>\n",
              "  </svg>\n",
              "      </button>\n",
              "      \n",
              "  <style>\n",
              "    .colab-df-container {\n",
              "      display:flex;\n",
              "      flex-wrap:wrap;\n",
              "      gap: 12px;\n",
              "    }\n",
              "\n",
              "    .colab-df-convert {\n",
              "      background-color: #E8F0FE;\n",
              "      border: none;\n",
              "      border-radius: 50%;\n",
              "      cursor: pointer;\n",
              "      display: none;\n",
              "      fill: #1967D2;\n",
              "      height: 32px;\n",
              "      padding: 0 0 0 0;\n",
              "      width: 32px;\n",
              "    }\n",
              "\n",
              "    .colab-df-convert:hover {\n",
              "      background-color: #E2EBFA;\n",
              "      box-shadow: 0px 1px 2px rgba(60, 64, 67, 0.3), 0px 1px 3px 1px rgba(60, 64, 67, 0.15);\n",
              "      fill: #174EA6;\n",
              "    }\n",
              "\n",
              "    [theme=dark] .colab-df-convert {\n",
              "      background-color: #3B4455;\n",
              "      fill: #D2E3FC;\n",
              "    }\n",
              "\n",
              "    [theme=dark] .colab-df-convert:hover {\n",
              "      background-color: #434B5C;\n",
              "      box-shadow: 0px 1px 3px 1px rgba(0, 0, 0, 0.15);\n",
              "      filter: drop-shadow(0px 1px 2px rgba(0, 0, 0, 0.3));\n",
              "      fill: #FFFFFF;\n",
              "    }\n",
              "  </style>\n",
              "\n",
              "      <script>\n",
              "        const buttonEl =\n",
              "          document.querySelector('#df-421c4e71-a5c8-4e4b-927a-75bff44421f7 button.colab-df-convert');\n",
              "        buttonEl.style.display =\n",
              "          google.colab.kernel.accessAllowed ? 'block' : 'none';\n",
              "\n",
              "        async function convertToInteractive(key) {\n",
              "          const element = document.querySelector('#df-421c4e71-a5c8-4e4b-927a-75bff44421f7');\n",
              "          const dataTable =\n",
              "            await google.colab.kernel.invokeFunction('convertToInteractive',\n",
              "                                                     [key], {});\n",
              "          if (!dataTable) return;\n",
              "\n",
              "          const docLinkHtml = 'Like what you see? Visit the ' +\n",
              "            '<a target=\"_blank\" href=https://colab.research.google.com/notebooks/data_table.ipynb>data table notebook</a>'\n",
              "            + ' to learn more about interactive tables.';\n",
              "          element.innerHTML = '';\n",
              "          dataTable['output_type'] = 'display_data';\n",
              "          await google.colab.output.renderOutput(dataTable, element);\n",
              "          const docLink = document.createElement('div');\n",
              "          docLink.innerHTML = docLinkHtml;\n",
              "          element.appendChild(docLink);\n",
              "        }\n",
              "      </script>\n",
              "    </div>\n",
              "  </div>\n",
              "  "
            ]
          },
          "metadata": {},
          "execution_count": 20
        }
      ]
    },
    {
      "cell_type": "markdown",
      "source": [
        "##Pregunta 3\n",
        "\n",
        "Con tus tablas creadas, ahora las vamos a llenar de datos. Te pedimos insertar la siguiente información, descrita de manera informal, a tu base de datos:\n",
        "\n",
        "Personas:\n",
        "-\tJohn Russo, rut: 883.111.6793-1, correo: john.russo@uc.cl, tel: 748-29-1038\n",
        "-\tMatthew Howard, rut: 323.654.56-1, correo:matthew.howard@uc.cl, tel: 004-11-7328\n",
        "-\tSusan Griffith, rut: 389.197.781-5, correo:susan.griffith@email.com, tel: 342-03-4478\n",
        "\n",
        "Todas estas personas participan en el taller con datos: \n",
        "- nombre: Taller de cocina, instructor: Gibson, fecha: 2021-12-28, hora: 12:00, valor: 9, duración: 1.5.\n",
        "\n",
        "También, disponemos de información que John Russo participa en el taller con datos: \n",
        "- nombre: Taller 11, instructor: Jonathan Duffy, fecha: 2022-12-11, hora: 13:00, valor: 7, duración: 1.0.\n",
        "\n",
        "Crea los comandos “INSERT INTO…” que inserta esta información a tus tablas. Estos comandos deben correr correctamente en SQL en el siguiente campo:\n"
      ],
      "metadata": {
        "id": "5ajnI5m7F9pI"
      }
    },
    {
      "cell_type": "code",
      "source": [
        "%%sql\n",
        "\n",
        "INSERT INTO Instructor VALUES (1, 'Gibson', 'gibson_provisional@uc.cl', 0, 1);\n",
        "INSERT INTO Instructor VALUES (2, 'Jonathan Duffy', 'jduffy@uc.cl', 0, 2);\n",
        "\n",
        "INSERT INTO Taller VALUES (1, 'Taller de Cocina', '2021-12-28', '12:00', 9, '1:30', 1);\n",
        "INSERT INTO Taller VALUES (2, 'Taller 11', '2021-12-11', '13:00', 7, '1:00', 2);\n",
        "\n",
        "INSERT INTO Estudiantes VALUES ('8831116793-1', 'John Russo', 'john.russo@uc.cl', '748-29-1038', 1);\n",
        "INSERT INTO Estudiantes VALUES ('8831116793-1', 'John Russo', 'john.russo@uc.cl', '748-29-1038', 2);\n",
        "INSERT INTO Estudiantes VALUES ('32365456-1', 'Matthew Howard', 'matthew.howard@uc.cl', '004-11-7328', 1);\n",
        "INSERT INTO Estudiantes VALUES ('389197781-5', 'Susan Griffith', 'susan.griffith@email.com', '342-03-4478', 1);"
      ],
      "metadata": {
        "id": "dz23KWdDGU-n",
        "colab": {
          "base_uri": "https://localhost:8080/",
          "height": 66
        },
        "outputId": "c9914c58-9245-4caf-9f43-758f2185e3d9"
      },
      "execution_count": 21,
      "outputs": [
        {
          "output_type": "stream",
          "name": "stdout",
          "text": [
            " * postgresql+psycopg2://@/postgres\n"
          ]
        },
        {
          "output_type": "execute_result",
          "data": {
            "text/plain": [
              "Empty DataFrame\n",
              "Columns: []\n",
              "Index: []"
            ],
            "text/html": [
              "\n",
              "  <div id=\"df-cf08857a-727e-49d3-bf3e-967a27a5d09d\">\n",
              "    <div class=\"colab-df-container\">\n",
              "      <div>\n",
              "<style scoped>\n",
              "    .dataframe tbody tr th:only-of-type {\n",
              "        vertical-align: middle;\n",
              "    }\n",
              "\n",
              "    .dataframe tbody tr th {\n",
              "        vertical-align: top;\n",
              "    }\n",
              "\n",
              "    .dataframe thead th {\n",
              "        text-align: right;\n",
              "    }\n",
              "</style>\n",
              "<table border=\"1\" class=\"dataframe\">\n",
              "  <thead>\n",
              "    <tr style=\"text-align: right;\">\n",
              "      <th></th>\n",
              "    </tr>\n",
              "  </thead>\n",
              "  <tbody>\n",
              "  </tbody>\n",
              "</table>\n",
              "</div>\n",
              "      <button class=\"colab-df-convert\" onclick=\"convertToInteractive('df-cf08857a-727e-49d3-bf3e-967a27a5d09d')\"\n",
              "              title=\"Convert this dataframe to an interactive table.\"\n",
              "              style=\"display:none;\">\n",
              "        \n",
              "  <svg xmlns=\"http://www.w3.org/2000/svg\" height=\"24px\"viewBox=\"0 0 24 24\"\n",
              "       width=\"24px\">\n",
              "    <path d=\"M0 0h24v24H0V0z\" fill=\"none\"/>\n",
              "    <path d=\"M18.56 5.44l.94 2.06.94-2.06 2.06-.94-2.06-.94-.94-2.06-.94 2.06-2.06.94zm-11 1L8.5 8.5l.94-2.06 2.06-.94-2.06-.94L8.5 2.5l-.94 2.06-2.06.94zm10 10l.94 2.06.94-2.06 2.06-.94-2.06-.94-.94-2.06-.94 2.06-2.06.94z\"/><path d=\"M17.41 7.96l-1.37-1.37c-.4-.4-.92-.59-1.43-.59-.52 0-1.04.2-1.43.59L10.3 9.45l-7.72 7.72c-.78.78-.78 2.05 0 2.83L4 21.41c.39.39.9.59 1.41.59.51 0 1.02-.2 1.41-.59l7.78-7.78 2.81-2.81c.8-.78.8-2.07 0-2.86zM5.41 20L4 18.59l7.72-7.72 1.47 1.35L5.41 20z\"/>\n",
              "  </svg>\n",
              "      </button>\n",
              "      \n",
              "  <style>\n",
              "    .colab-df-container {\n",
              "      display:flex;\n",
              "      flex-wrap:wrap;\n",
              "      gap: 12px;\n",
              "    }\n",
              "\n",
              "    .colab-df-convert {\n",
              "      background-color: #E8F0FE;\n",
              "      border: none;\n",
              "      border-radius: 50%;\n",
              "      cursor: pointer;\n",
              "      display: none;\n",
              "      fill: #1967D2;\n",
              "      height: 32px;\n",
              "      padding: 0 0 0 0;\n",
              "      width: 32px;\n",
              "    }\n",
              "\n",
              "    .colab-df-convert:hover {\n",
              "      background-color: #E2EBFA;\n",
              "      box-shadow: 0px 1px 2px rgba(60, 64, 67, 0.3), 0px 1px 3px 1px rgba(60, 64, 67, 0.15);\n",
              "      fill: #174EA6;\n",
              "    }\n",
              "\n",
              "    [theme=dark] .colab-df-convert {\n",
              "      background-color: #3B4455;\n",
              "      fill: #D2E3FC;\n",
              "    }\n",
              "\n",
              "    [theme=dark] .colab-df-convert:hover {\n",
              "      background-color: #434B5C;\n",
              "      box-shadow: 0px 1px 3px 1px rgba(0, 0, 0, 0.15);\n",
              "      filter: drop-shadow(0px 1px 2px rgba(0, 0, 0, 0.3));\n",
              "      fill: #FFFFFF;\n",
              "    }\n",
              "  </style>\n",
              "\n",
              "      <script>\n",
              "        const buttonEl =\n",
              "          document.querySelector('#df-cf08857a-727e-49d3-bf3e-967a27a5d09d button.colab-df-convert');\n",
              "        buttonEl.style.display =\n",
              "          google.colab.kernel.accessAllowed ? 'block' : 'none';\n",
              "\n",
              "        async function convertToInteractive(key) {\n",
              "          const element = document.querySelector('#df-cf08857a-727e-49d3-bf3e-967a27a5d09d');\n",
              "          const dataTable =\n",
              "            await google.colab.kernel.invokeFunction('convertToInteractive',\n",
              "                                                     [key], {});\n",
              "          if (!dataTable) return;\n",
              "\n",
              "          const docLinkHtml = 'Like what you see? Visit the ' +\n",
              "            '<a target=\"_blank\" href=https://colab.research.google.com/notebooks/data_table.ipynb>data table notebook</a>'\n",
              "            + ' to learn more about interactive tables.';\n",
              "          element.innerHTML = '';\n",
              "          dataTable['output_type'] = 'display_data';\n",
              "          await google.colab.output.renderOutput(dataTable, element);\n",
              "          const docLink = document.createElement('div');\n",
              "          docLink.innerHTML = docLinkHtml;\n",
              "          element.appendChild(docLink);\n",
              "        }\n",
              "      </script>\n",
              "    </div>\n",
              "  </div>\n",
              "  "
            ]
          },
          "metadata": {},
          "execution_count": 21
        }
      ]
    },
    {
      "cell_type": "markdown",
      "source": [
        "##Pregunta 4\n",
        "\n",
        "Escriba en SQL la consulta que sobre tu base de datos devuelve nombre de todos los talleres. Esta consulta se debe ejecutar correctamente sobre tu esquema, y los datos ingresados en la Pregunta 3, pero también en otras instancias de tu esquema relacional.\n",
        "\n",
        "La consulta la puedes ingresar al siguiente campo:"
      ],
      "metadata": {
        "id": "7OyQmth3GgJi"
      }
    },
    {
      "cell_type": "code",
      "source": [
        "%%sql\n",
        "SELECT tnombre FROM Taller;"
      ],
      "metadata": {
        "id": "lQOBVFpoGn0R",
        "colab": {
          "base_uri": "https://localhost:8080/",
          "height": 129
        },
        "outputId": "7b7e7ea2-b3d9-4255-b7b4-cc2a4e2f5be6"
      },
      "execution_count": 24,
      "outputs": [
        {
          "output_type": "stream",
          "name": "stdout",
          "text": [
            " * postgresql+psycopg2://@/postgres\n"
          ]
        },
        {
          "output_type": "execute_result",
          "data": {
            "text/plain": [
              "            tnombre\n",
              "0  Taller de Cocina\n",
              "1         Taller 11"
            ],
            "text/html": [
              "\n",
              "  <div id=\"df-266de0f3-b371-4d8f-bc6f-c5f86b3e82d5\">\n",
              "    <div class=\"colab-df-container\">\n",
              "      <div>\n",
              "<style scoped>\n",
              "    .dataframe tbody tr th:only-of-type {\n",
              "        vertical-align: middle;\n",
              "    }\n",
              "\n",
              "    .dataframe tbody tr th {\n",
              "        vertical-align: top;\n",
              "    }\n",
              "\n",
              "    .dataframe thead th {\n",
              "        text-align: right;\n",
              "    }\n",
              "</style>\n",
              "<table border=\"1\" class=\"dataframe\">\n",
              "  <thead>\n",
              "    <tr style=\"text-align: right;\">\n",
              "      <th></th>\n",
              "      <th>tnombre</th>\n",
              "    </tr>\n",
              "  </thead>\n",
              "  <tbody>\n",
              "    <tr>\n",
              "      <th>0</th>\n",
              "      <td>Taller de Cocina</td>\n",
              "    </tr>\n",
              "    <tr>\n",
              "      <th>1</th>\n",
              "      <td>Taller 11</td>\n",
              "    </tr>\n",
              "  </tbody>\n",
              "</table>\n",
              "</div>\n",
              "      <button class=\"colab-df-convert\" onclick=\"convertToInteractive('df-266de0f3-b371-4d8f-bc6f-c5f86b3e82d5')\"\n",
              "              title=\"Convert this dataframe to an interactive table.\"\n",
              "              style=\"display:none;\">\n",
              "        \n",
              "  <svg xmlns=\"http://www.w3.org/2000/svg\" height=\"24px\"viewBox=\"0 0 24 24\"\n",
              "       width=\"24px\">\n",
              "    <path d=\"M0 0h24v24H0V0z\" fill=\"none\"/>\n",
              "    <path d=\"M18.56 5.44l.94 2.06.94-2.06 2.06-.94-2.06-.94-.94-2.06-.94 2.06-2.06.94zm-11 1L8.5 8.5l.94-2.06 2.06-.94-2.06-.94L8.5 2.5l-.94 2.06-2.06.94zm10 10l.94 2.06.94-2.06 2.06-.94-2.06-.94-.94-2.06-.94 2.06-2.06.94z\"/><path d=\"M17.41 7.96l-1.37-1.37c-.4-.4-.92-.59-1.43-.59-.52 0-1.04.2-1.43.59L10.3 9.45l-7.72 7.72c-.78.78-.78 2.05 0 2.83L4 21.41c.39.39.9.59 1.41.59.51 0 1.02-.2 1.41-.59l7.78-7.78 2.81-2.81c.8-.78.8-2.07 0-2.86zM5.41 20L4 18.59l7.72-7.72 1.47 1.35L5.41 20z\"/>\n",
              "  </svg>\n",
              "      </button>\n",
              "      \n",
              "  <style>\n",
              "    .colab-df-container {\n",
              "      display:flex;\n",
              "      flex-wrap:wrap;\n",
              "      gap: 12px;\n",
              "    }\n",
              "\n",
              "    .colab-df-convert {\n",
              "      background-color: #E8F0FE;\n",
              "      border: none;\n",
              "      border-radius: 50%;\n",
              "      cursor: pointer;\n",
              "      display: none;\n",
              "      fill: #1967D2;\n",
              "      height: 32px;\n",
              "      padding: 0 0 0 0;\n",
              "      width: 32px;\n",
              "    }\n",
              "\n",
              "    .colab-df-convert:hover {\n",
              "      background-color: #E2EBFA;\n",
              "      box-shadow: 0px 1px 2px rgba(60, 64, 67, 0.3), 0px 1px 3px 1px rgba(60, 64, 67, 0.15);\n",
              "      fill: #174EA6;\n",
              "    }\n",
              "\n",
              "    [theme=dark] .colab-df-convert {\n",
              "      background-color: #3B4455;\n",
              "      fill: #D2E3FC;\n",
              "    }\n",
              "\n",
              "    [theme=dark] .colab-df-convert:hover {\n",
              "      background-color: #434B5C;\n",
              "      box-shadow: 0px 1px 3px 1px rgba(0, 0, 0, 0.15);\n",
              "      filter: drop-shadow(0px 1px 2px rgba(0, 0, 0, 0.3));\n",
              "      fill: #FFFFFF;\n",
              "    }\n",
              "  </style>\n",
              "\n",
              "      <script>\n",
              "        const buttonEl =\n",
              "          document.querySelector('#df-266de0f3-b371-4d8f-bc6f-c5f86b3e82d5 button.colab-df-convert');\n",
              "        buttonEl.style.display =\n",
              "          google.colab.kernel.accessAllowed ? 'block' : 'none';\n",
              "\n",
              "        async function convertToInteractive(key) {\n",
              "          const element = document.querySelector('#df-266de0f3-b371-4d8f-bc6f-c5f86b3e82d5');\n",
              "          const dataTable =\n",
              "            await google.colab.kernel.invokeFunction('convertToInteractive',\n",
              "                                                     [key], {});\n",
              "          if (!dataTable) return;\n",
              "\n",
              "          const docLinkHtml = 'Like what you see? Visit the ' +\n",
              "            '<a target=\"_blank\" href=https://colab.research.google.com/notebooks/data_table.ipynb>data table notebook</a>'\n",
              "            + ' to learn more about interactive tables.';\n",
              "          element.innerHTML = '';\n",
              "          dataTable['output_type'] = 'display_data';\n",
              "          await google.colab.output.renderOutput(dataTable, element);\n",
              "          const docLink = document.createElement('div');\n",
              "          docLink.innerHTML = docLinkHtml;\n",
              "          element.appendChild(docLink);\n",
              "        }\n",
              "      </script>\n",
              "    </div>\n",
              "  </div>\n",
              "  "
            ]
          },
          "metadata": {},
          "execution_count": 24
        }
      ]
    },
    {
      "cell_type": "code",
      "source": [
        "%%shell\n",
        "jupyter nbconvert --to html /content/T1Formulario_Santiago_Higuita.ipynb"
      ],
      "metadata": {
        "id": "VfQ0rTmf-X1v"
      },
      "execution_count": null,
      "outputs": []
    }
  ]
}